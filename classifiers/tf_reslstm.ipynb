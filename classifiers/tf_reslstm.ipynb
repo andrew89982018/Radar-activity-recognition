{
 "cells": [
  {
   "cell_type": "code",
   "execution_count": null,
   "metadata": {},
   "outputs": [],
   "source": [
    "import tensorflow as tf\n",
    "from tensorflow.keras import layers\n",
    "from tensorflow import keras \n",
    "import tf_resnet as resnet\n",
    "import  tensorflow.keras.backend as K\n",
    "import numpy as np\n",
    "import pickle\n",
    "import pandas as pd\n",
    "import random\n",
    "from sklearn import preprocessing\n",
    "from sklearn.utils import shuffle\n",
    "from sklearn.model_selection import train_test_split\n",
    "from sklearn.metrics import f1_score,average_precision_score,confusion_matrix,recall_score,accuracy_score\n",
    "from sklearn.metrics import confusion_matrix\n",
    "from sklearn.utils import class_weight\n",
    "import math\n",
    "import gc\n",
    "import sys"
   ]
  },
  {
   "cell_type": "code",
   "execution_count": null,
   "metadata": {},
   "outputs": [],
   "source": [
    "gpus = tf.config.experimental.list_physical_devices('GPU')\n",
    "for gpu in gpus:\n",
    "    tf.config.experimental.set_memory_growth(gpu, True)"
   ]
  },
  {
   "cell_type": "code",
   "execution_count": null,
   "metadata": {},
   "outputs": [],
   "source": [
    "num_classes=15\n",
    "lstm_count=128"
   ]
  },
  {
   "cell_type": "code",
   "execution_count": null,
   "metadata": {},
   "outputs": [],
   "source": [
    "output = open(\"D:/罗飞/kitchen_processed_data/\"+'xall.p', 'rb')\n",
    "xall=pd.read_pickle(output,compression=None)\n",
    "output = open(\"D:/罗飞/kitchen_processed_data/\"+'yall.p', 'rb')\n",
    "yall=pd.read_pickle(output,compression=None)\n",
    "output.close()\n",
    "class_names=['Drinking',\"Eating\",\"Standing\",\"Sitting\",\"Walking\",\"Open door and get in\",\"Open door and get out\",\"Washing\",\n",
    "           \"Open oven\",\"Close oven\",\"Open cabinet\",\"Close cabinet\",\"Open freezer\",\"Close freezer\",\"No activity\"]"
   ]
  },
  {
   "cell_type": "code",
   "execution_count": null,
   "metadata": {},
   "outputs": [],
   "source": [
    "le = preprocessing.LabelEncoder()\n",
    "yall=le.fit_transform(yall)\n",
    "num_classes=len(np.unique(yall))\n",
    "print(np.unique(yall,return_counts=True),num_classes)\n",
    "xall, yall = shuffle(xall,yall)\n",
    "print(yall[0:15],xall.shape)\n",
    "x_train, x_test, y_train, y_test =train_test_split(xall, yall, test_size=0.17)"
   ]
  },
  {
   "cell_type": "code",
   "execution_count": null,
   "metadata": {},
   "outputs": [],
   "source": [
    "def create_model(_input,data_format='channels_last'):\n",
    "        resnet._handle_dim_ordering()\n",
    "        ### Convolutional blocks\n",
    "        conv1 = resnet._conv_bn_relu(filters=64, kernel_size=(7, 7), strides=(2, 2))(model_input)\n",
    "        pool1 = layers.MaxPooling2D(pool_size=(3, 3), strides=(2, 2), padding=\"same\")(conv1)\n",
    "\n",
    "        block = pool1\n",
    "        filters = 64\n",
    "        repetitions=[2,2]\n",
    "        for i, r in enumerate(repetitions):\n",
    "            block = resnet._residual_block(resnet.basic_block, filters=filters, repetitions=r, is_first_layer=(i == 0))(block)\n",
    "            filters *= 2\n",
    "\n",
    "        # Last activation\n",
    "        block = resnet._bn_relu(block)\n",
    "        block_shape = K.int_shape(block)\n",
    "        pool2 = layers.AveragePooling2D(pool_size=(block_shape[resnet.ROW_AXIS], block_shape[resnet.COL_AXIS]),\n",
    "                                strides=(1, 1),name='avpool')(block)\n",
    "        flatten1 = layers.Flatten()(pool2)\n",
    "        \n",
    "        layer_shape=K.int_shape(_input)\n",
    "        pool_lstm1 = layers.AveragePooling2D(pool_size=(layer_shape[1], 4),\n",
    "                                strides=(1, 4))(_input)\n",
    "        print(pool_lstm1.shape)\n",
    "        pool_lstm1 = layers.Lambda(lambda x: K.squeeze(x, axis= 1))(pool_lstm1)\n",
    "        lstm = layers.Bidirectional(layers.GRU(lstm_count,return_sequences=True))(pool_lstm1)  \n",
    "        lstm = layers.Bidirectional(layers.GRU(lstm_count))(lstm)\n",
    "\n",
    "        flattenbn=layers.BatchNormalization(axis=-1)(flatten1)\n",
    "        lstm=layers.BatchNormalization(axis=-1)(lstm)\n",
    "        concat = layers.concatenate([flattenbn, lstm], axis=-1, name ='concat')\n",
    "    \n",
    "        ## Softmax Output\n",
    "        output = layers.Dense(num_classes, activation = 'softmax', name='preds')(concat)\n",
    "    \n",
    "        model_output = output\n",
    "        model =tf.keras.Model(_input, model_output)\n",
    "        return model\n",
    "        "
   ]
  },
  {
   "cell_type": "code",
   "execution_count": null,
   "metadata": {},
   "outputs": [],
   "source": [
    "img_rows, img_cols = 80, 80\n",
    "# The CIFAR10 images are RGB.\n",
    "img_channels = 2\n",
    "input_shape = (img_rows, img_cols, img_channels)\n",
    "model_input = tf.keras.Input(input_shape, name='input')\n",
    "model=create_model(model_input)\n",
    "model.summary()"
   ]
  },
  {
   "cell_type": "code",
   "execution_count": null,
   "metadata": {},
   "outputs": [],
   "source": [
    " model.compile(optimizer=tf.keras.optimizers.Adam(0.0005), loss='sparse_categorical_crossentropy', metrics=['acc'])"
   ]
  },
  {
   "cell_type": "code",
   "execution_count": null,
   "metadata": {},
   "outputs": [],
   "source": [
    "batch_size = 128\n",
    "nb_epoch = 360\n",
    "class_weight0 = class_weight.compute_class_weight('balanced', np.unique(y_train), y_train)"
   ]
  },
  {
   "cell_type": "code",
   "execution_count": null,
   "metadata": {},
   "outputs": [],
   "source": [
    "model.fit(x_train, y_train,\n",
    "              batch_size=batch_size,\n",
    "              epochs=nb_epoch,\n",
    "              validation_data=(x_test, y_test),\n",
    "              shuffle=True)"
   ]
  },
  {
   "cell_type": "code",
   "execution_count": null,
   "metadata": {},
   "outputs": [],
   "source": [
    "results = model.evaluate(x_test, y_test, batch_size=128)\n",
    "print('test loss, test acc:', results)"
   ]
  },
  {
   "cell_type": "code",
   "execution_count": null,
   "metadata": {},
   "outputs": [],
   "source": [
    "from sklearn.metrics import f1_score,average_precision_score,confusion_matrix,recall_score,accuracy_score\n",
    "from sklearn.metrics import confusion_matrix\n",
    "import matplotlib.pyplot as plt\n",
    "from matplotlib import mlab\n",
    "import matplotlib\n",
    "import matplotlib.cm as cm\n",
    "import itertools\n",
    "font = {'family' : 'normal',\n",
    "        'size'   : 22}\n",
    "\n",
    "matplotlib.rc('font', **font)\n",
    "def plot_confusion_matrix(cm, classes,\n",
    "                          normalize=False,\n",
    "                          title='Confusion matrix',\n",
    "                          cmap=plt.cm.Blues):\n",
    "    \"\"\"\n",
    "    This function prints and plots the confusion matrix.\n",
    "    Normalization can be applied by setting `normalize=True`.\n",
    "    \"\"\"\n",
    "    if normalize:\n",
    "        cm = cm.astype('float') / cm.sum(axis=1)[:, np.newaxis]\n",
    "        print(\"Normalized confusion matrix\")\n",
    "    else:\n",
    "        print('Confusion matrix, without normalization')\n",
    "\n",
    "    #print(cm)\n",
    "    plt.figure(figsize=(24,16))\n",
    "    plt.imshow(cm, interpolation='nearest', cmap=cmap)\n",
    "    plt.title(title)\n",
    "    plt.colorbar()\n",
    "    tick_marks = np.arange(len(classes))\n",
    "    plt.xticks(tick_marks, classes, rotation=60,fontsize=17)\n",
    "    plt.yticks(tick_marks, classes,fontsize=17)\n",
    "\n",
    "    fmt = '.2f' if normalize else 'd'\n",
    "    thresh = cm.max() / 2.\n",
    "    for i, j in itertools.product(range(cm.shape[0]), range(cm.shape[1])):\n",
    "        plt.text(j, i, format(cm[i, j], fmt),\n",
    "                 horizontalalignment=\"center\",\n",
    "                 color=\"white\" if cm[i, j] > thresh else \"black\")\n",
    "\n",
    "    plt.tight_layout()\n",
    "    plt.ylabel('True label')\n",
    "    plt.xlabel('Predicted label')\n"
   ]
  },
  {
   "cell_type": "code",
   "execution_count": null,
   "metadata": {},
   "outputs": [],
   "source": [
    "y_pred = model.predict(x_test,batch_size=200)\n",
    "y_pred=np.argmax(y_pred, axis = 1)\n",
    "\n",
    "print(accuracy_score(y_test,y_pred))\n",
    "recall=recall_score(y_test, y_pred,average='macro')\n",
    "print(recall)\n",
    "print(f1_score(y_test,y_pred,average=\"macro\"))\n",
    "\n",
    "print(y_pred)\n",
    "cnf_matrix=confusion_matrix(y_test, y_pred, labels=np.unique(y_test))\n",
    "np.set_printoptions(precision=1)\n",
    "class_names=class_name=['Drinking',\"Eating\",\"Standing\",\"Sitting\",\"Walking\",\"Open door and get in\",\"Open door and get out\",\"Washing\",\n",
    "           \"Open oven\",\"Close oven\",\"Open cabinet\",\"Close cabinet\",\"Open fridge\",\"Close fridge\",\"No activity\"]\n",
    "# Plot non-normalized confusion matrix\n",
    "#plot_confusion_matrix(cnf_matrix, classes=class_names,\n",
    "#                      title='Confusion matrix, without normalization')\n",
    "\n",
    "# Plot normalized confusion matrix\n",
    "plot_confusion_matrix(cnf_matrix, classes=class_names, normalize=True,\n",
    "                      title='Normalized confusion matrix')\n",
    "\n",
    "plt.show()"
   ]
  },
  {
   "cell_type": "code",
   "execution_count": null,
   "metadata": {},
   "outputs": [],
   "source": []
  }
 ],
 "metadata": {
  "kernelspec": {
   "display_name": "Python 3",
   "language": "python",
   "name": "python3"
  },
  "language_info": {
   "codemirror_mode": {
    "name": "ipython",
    "version": 3
   },
   "file_extension": ".py",
   "mimetype": "text/x-python",
   "name": "python",
   "nbconvert_exporter": "python",
   "pygments_lexer": "ipython3",
   "version": "3.7.4"
  }
 },
 "nbformat": 4,
 "nbformat_minor": 4
}
